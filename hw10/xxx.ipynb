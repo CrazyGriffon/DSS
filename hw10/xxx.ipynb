{
 "cells": [
  {
   "cell_type": "markdown",
   "metadata": {},
   "source": [
    "### Написать на PyTorch forward и backward полносвязного слоя без использования autograd"
   ]
  },
  {
   "cell_type": "code",
   "execution_count": 67,
   "metadata": {},
   "outputs": [],
   "source": [
    "import torch\n",
    "from torch import nn\n",
    "\n",
    "import pandas as pd\n",
    "import numpy as np\n",
    "\n",
    "import matplotlib.pyplot as plt"
   ]
  },
  {
   "cell_type": "code",
   "execution_count": 68,
   "metadata": {},
   "outputs": [],
   "source": [
    "def loss_func(t, y):\n",
    "    return np.sum((t-y)**2, keepdims=True).flatten()*0.5\n",
    "\n",
    "def diff_loss_func(t, y):\n",
    "    return np.sum(np.abs(y-t), kkepdims=True).flatten()\n",
    "\n",
    "def sigmoid_fun(z):\n",
    "    return 1./(1+np.exp(-z))"
   ]
  },
  {
   "cell_type": "code",
   "execution_count": 69,
   "metadata": {},
   "outputs": [],
   "source": [
    "class layer:\n",
    "    \n",
    "    def __init__(self, n_input, n_output, lr=0.1):\n",
    "        self.size = (n_input, n_output)\n",
    "        self.lr = lr\n",
    "        self.w = np.zeros(self.size, dtype=np.float32)\n",
    "        self.b = np.zeros((1, n_output), dtype=np.float32)\n",
    "        self._clear()\n",
    "    \n",
    "    def __call__(self, x):\n",
    "        if len(x.shape) == 1:\n",
    "            x = x.reshape(1, -1)\n",
    "        self.input = x\n",
    "        self.activations = sigmoid_fun(x.dot(self.w) + self.b)\n",
    "        return self.activations\n",
    "    \n",
    "    def backward(self, grad):\n",
    "        self.d_sigma = self.activations * (1 - self.activations)\n",
    "        self.d_w = self.grad_w(grad)\n",
    "        self.d_b = self.grad_b(grad)\n",
    "        return self.grad_x(grad)\n",
    "    \n",
    "    def grad_w(self, grad):\n",
    "        return grad * self.input.T * self.d_sigma\n",
    "    \n",
    "    def grad_b(self, grad):\n",
    "        return grad * self.d_sigma\n",
    "    \n",
    "    def grad_x(self, grad):\n",
    "        return self.w.dot(grad) * self.d_sigma\n",
    "    \n",
    "    def step(self):\n",
    "        self.w -= self.d_w * self.lr\n",
    "        self.b -= self.d_b * self.lr\n",
    "        self._clear()\n",
    "    \n",
    "    def _clear(self):\n",
    "        self.input = None\n",
    "        self.activations = None\n",
    "        self.d_sigma = None\n",
    "        self.d_w = None\n",
    "        self.d_b = None\n",
    "        \n",
    "layer0 = layer(6, 2)"
   ]
  },
  {
   "cell_type": "markdown",
   "metadata": {},
   "source": [
    "### Написать 1-2 адаптивных оптимизатора. Pеализация оптимизаторов RMSprop, Adam\n",
    "\n",
    "https://medium.com/analytics-vidhya/a-complete-guide-to-adam-and-rmsprop-optimizer-75f4502d83be\n"
   ]
  },
  {
   "cell_type": "code",
   "execution_count": 70,
   "metadata": {},
   "outputs": [],
   "source": [
    "class RMSprop:\n",
    "    \n",
    "    def __init__(self, model, lr=0.01, \n",
    "                 v = 0,\n",
    "                 b = 0.9, \n",
    "                 eps = 10 ** (-8) ):\n",
    "        self.model = model\n",
    "        self.a = a\n",
    "        self.v = v  \n",
    "        self.b = b\n",
    "        self.eps = eps\n",
    "    \n",
    "    def step(self, grad):\n",
    "        self.v = self.b * self.v + (1 - self.b) * (grad**2)\n",
    "        self.model -= (self.lr * grad) / (self.v**0.5 + self.eps)\n",
    "\n",
    "class Adam:\n",
    "    \n",
    "    def __init__(self, model, a = 0.001, \n",
    "                 m = 0,\n",
    "                 v = 0,\n",
    "                 t = 0,\n",
    "                 b1 = 0.9, \n",
    "                 b2 = 0.999, \n",
    "                 eps = 10 ** (-8) ):\n",
    "        self.model = model\n",
    "        self.a = a\n",
    "        self.m = m\n",
    "        self.v = v\n",
    "        self.t = t\n",
    "        self.b1 = b1\n",
    "        self.b2 = b2\n",
    "        self.eps = eps\n",
    "    \n",
    "    def step(self, grad):\n",
    "        self.t += 1\n",
    "        self.m = self.b1 * self.m + (1 - self.b1) * grad\n",
    "        self.v = self.b2 * self.v + (1 - self.b2) * grad\n",
    "        m_bias = self.m / (1-self.b1)\n",
    "        v_bias = self.v / (1-self.b2)\n",
    "        self.model -= (self.a * m_bias) / (v_bias**0.5 + self.eps)\n",
    "    "
   ]
  },
  {
   "cell_type": "markdown",
   "metadata": {},
   "source": [
    "### Решить задачу нахождения корней квадратного уравнения методом градиентного спуска"
   ]
  },
  {
   "cell_type": "markdown",
   "metadata": {},
   "source": [
    "f(x) = x^2 + 4x + 4\n",
    "\n",
    "x1 = x2 = -0.5\n"
   ]
  },
  {
   "cell_type": "code",
   "execution_count": 71,
   "metadata": {},
   "outputs": [
    {
     "name": "stdout",
     "output_type": "stream",
     "text": [
      "tensor(-2.0000)\n"
     ]
    }
   ],
   "source": [
    "a, b, c = 1, 4, 4\n",
    "\n",
    "func = lambda x: (a*x**2 + b*x + c)\n",
    "gradient = lambda x: (2*a*x + b)\n",
    "\n",
    "def solver(x_start):\n",
    "    x = torch.tensor(x_start, dtype=torch.float32)\n",
    "    grad = gradient(x)\n",
    "    optim = Adam(x, 0.1)\n",
    "    for i in range(1000):\n",
    "        optim.step(grad)\n",
    "        grad = gradient(optim.model)\n",
    "    print(optim.model)\n",
    "    \n",
    "solver(6)"
   ]
  },
  {
   "cell_type": "code",
   "execution_count": null,
   "metadata": {},
   "outputs": [],
   "source": []
  }
 ],
 "metadata": {
  "kernelspec": {
   "display_name": "Python 3 (ipykernel)",
   "language": "python",
   "name": "python3"
  },
  "language_info": {
   "codemirror_mode": {
    "name": "ipython",
    "version": 3
   },
   "file_extension": ".py",
   "mimetype": "text/x-python",
   "name": "python",
   "nbconvert_exporter": "python",
   "pygments_lexer": "ipython3",
   "version": "3.9.7"
  }
 },
 "nbformat": 4,
 "nbformat_minor": 4
}
