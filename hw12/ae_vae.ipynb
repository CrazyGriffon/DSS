{
 "cells": [
  {
   "cell_type": "code",
   "execution_count": 18,
   "metadata": {},
   "outputs": [],
   "source": [
    "from torchvision import datasets, transforms\n",
    "import torch\n",
    "import torch.optim as optim\n",
    "import torch.nn as nn\n",
    "import matplotlib.pyplot as plt\n",
    "\n",
    "transform = transforms.ToTensor()\n",
    "\n",
    "mnist = datasets.MNIST(\n",
    "    root='./data',\n",
    "    train=True,\n",
    "    download=True,\n",
    "    transform=transforms.ToTensor())\n",
    "\n",
    "loader = torch.utils.data.DataLoader(\n",
    "    dataset=mnist,\n",
    "    batch_size=32,\n",
    "    shuffle=True)\n",
    "\n",
    "lr=1e-3 \n",
    "weight_decay=1e-5\n",
    "n_epochs = 5"
   ]
  },
  {
   "cell_type": "markdown",
   "metadata": {},
   "source": [
    "### Обучить AE собственной архитектуры на MNIST(с линейными слоями)"
   ]
  },
  {
   "cell_type": "code",
   "execution_count": 19,
   "metadata": {},
   "outputs": [],
   "source": [
    "class ael(nn.Module):\n",
    "    def __init__(self):\n",
    "        super().__init__()\n",
    "        self.enc = nn.Sequential(\n",
    "            nn.Linear(784, 128),\n",
    "            nn.ReLU(),\n",
    "            nn.Linear(128, 64),\n",
    "            nn.ReLU(),\n",
    "            nn.Linear(64, 16),\n",
    "            nn.ReLU(),\n",
    "            nn.Linear(16, 4)         \n",
    "        )\n",
    "        self.dec = nn.Sequential(\n",
    "            nn.Linear(4, 16),\n",
    "            nn.ReLU(),\n",
    "            nn.Linear(16, 64),\n",
    "            nn.ReLU(),\n",
    "            nn.Linear(64, 128),\n",
    "            nn.ReLU(),\n",
    "            nn.Linear(128, 784),\n",
    "            nn.Sigmoid()\n",
    "        )\n",
    "    def forward(self, x):\n",
    "        enc = self.enc(x)\n",
    "        dec = self.dec(enc)\n",
    "        return dec"
   ]
  },
  {
   "cell_type": "code",
   "execution_count": 20,
   "metadata": {},
   "outputs": [
    {
     "name": "stdout",
     "output_type": "stream",
     "text": [
      "epoch: 1, loss=0.041\n",
      "epoch: 2, loss=0.040\n",
      "epoch: 3, loss=0.033\n",
      "epoch: 4, loss=0.035\n",
      "epoch: 5, loss=0.032\n"
     ]
    }
   ],
   "source": [
    "model = ael()\n",
    "optimizer = torch.optim.Adam(\n",
    "    model.parameters(), \n",
    "    lr=lr, \n",
    "    weight_decay=weight_decay)\n",
    "criterion = nn.MSELoss()\n",
    "\n",
    "for epoch in range(n_epochs):\n",
    "    for img, _ in loader:\n",
    "        img = img.reshape(-1, 784)\n",
    "        recon = model(img)\n",
    "        loss = criterion(recon, img)\n",
    "        optimizer.zero_grad()\n",
    "        loss.backward()\n",
    "        optimizer.step()\n",
    "    print(f'epoch: {epoch+1}, loss={loss.item():.3f}') "
   ]
  },
  {
   "cell_type": "markdown",
   "metadata": {},
   "source": [
    "### Обучить AE собственной архитектуры на MNIST(со сверточными слоями)"
   ]
  },
  {
   "cell_type": "code",
   "execution_count": 21,
   "metadata": {},
   "outputs": [],
   "source": [
    "class aecnn(nn.Module):\n",
    "    def __init__(self):\n",
    "        super().__init__()\n",
    "        self.enc = nn.Sequential(\n",
    "            nn.Conv2d(in_channels=1, out_channels=16, kernel_size=3, stride=2, padding=1),\n",
    "            nn.ReLU(),\n",
    "            nn.Conv2d(in_channels=16, out_channels=32, kernel_size=3, stride=2, padding=1),\n",
    "            nn.ReLU(),\n",
    "            nn.Conv2d(in_channels=32, out_channels=64, kernel_size=7)\n",
    "        )\n",
    "        self.dec = nn.Sequential(\n",
    "            nn.ConvTranspose2d(in_channels=64, out_channels=32, kernel_size=7),\n",
    "            nn.ReLU(),\n",
    "            nn.ConvTranspose2d(in_channels=32, out_channels=16, kernel_size=3, stride=2, padding=1, output_padding=1), \n",
    "            nn.ReLU(),\n",
    "            nn.ConvTranspose2d(in_channels=16, out_channels=1, kernel_size=3, stride=2, padding=1, output_padding=1), \n",
    "            nn.Sigmoid()\n",
    "        )\n",
    "    def forward(self, x):   \n",
    "        enc = self.enc(x) \n",
    "        dec = self.dec(enc) \n",
    "        return dec"
   ]
  },
  {
   "cell_type": "code",
   "execution_count": 22,
   "metadata": {},
   "outputs": [
    {
     "name": "stdout",
     "output_type": "stream",
     "text": [
      "epoch: 1, loss=0.007\n",
      "epoch: 2, loss=0.005\n",
      "epoch: 3, loss=0.004\n",
      "epoch: 4, loss=0.003\n",
      "epoch: 5, loss=0.003\n"
     ]
    }
   ],
   "source": [
    "model = aecnn()\n",
    "optimizer = torch.optim.Adam(\n",
    "    model.parameters(), \n",
    "    lr=lr, \n",
    "    weight_decay=weight_decay)\n",
    "criterion = nn.MSELoss()\n",
    "n_epochs = 5\n",
    "\n",
    "for epoch in range(n_epochs):\n",
    "    for (img, _) in loader:\n",
    "        rec = model(img)\n",
    "        loss = criterion(rec, img)\n",
    "        optimizer.zero_grad()\n",
    "        loss.backward()\n",
    "        optimizer.step()\n",
    "    print(f'epoch: {epoch+1}, loss={loss.item():.3f}') "
   ]
  },
  {
   "cell_type": "markdown",
   "metadata": {},
   "source": [
    "### Обучить VAE собственной архитектуры на MNIST"
   ]
  },
  {
   "cell_type": "code",
   "execution_count": 23,
   "metadata": {},
   "outputs": [],
   "source": [
    "class vae(nn.Module):\n",
    "    def __init__(self):\n",
    "        super().__init__()\n",
    "        self.mu = nn.Sequential(\n",
    "            nn.ReLU(),\n",
    "            nn.ConvTranspose2d(in_channels=64, out_channels=1, kernel_size=7)\n",
    "        )\n",
    "        self.sigma = nn.Sequential(\n",
    "            nn.ReLU(),\n",
    "            nn.ConvTranspose2d(in_channels=64, out_channels=1, kernel_size=7)\n",
    "        )\n",
    "        self.enc = nn.Sequential(\n",
    "            nn.Conv2d(in_channels=1, out_channels=16, kernel_size=3, stride=2, padding=1),\n",
    "            nn.ReLU(),\n",
    "            nn.Conv2d(in_channels=16, out_channels=32, kernel_size=3, stride=2, padding=1),\n",
    "            nn.ReLU(),\n",
    "            nn.Conv2d(in_channels=32, out_channels=64, kernel_size=7)\n",
    "        )\n",
    "        self.dec= nn.Sequential(\n",
    "            nn.Conv2d(in_channels=1, out_channels=64, kernel_size=5, stride=3),\n",
    "            nn.ConvTranspose2d(in_channels=64, out_channels=32, kernel_size=7),\n",
    "            nn.ReLU(),\n",
    "            nn.ConvTranspose2d(in_channels=32, out_channels=16, kernel_size=3, stride=2, padding=1, output_padding=1), \n",
    "            nn.ReLU(),\n",
    "            nn.ConvTranspose2d(in_channels=16, out_channels=1, kernel_size=3, stride=2, padding=1, output_padding=1),\n",
    "            nn.Sigmoid()\n",
    "        )\n",
    "    def forward(self, x):\n",
    "        enc = self.enc(x) \n",
    "        mu = self.mu(enc)\n",
    "        sigma = torch.exp(self.sigma(enc))\n",
    "        sample = mu + torch.normal(torch.zeros_like(sigma), torch.ones_like(sigma)) * sigma\n",
    "        dec = self.dec(sample)\n",
    "        return dec"
   ]
  },
  {
   "cell_type": "code",
   "execution_count": 25,
   "metadata": {},
   "outputs": [
    {
     "name": "stdout",
     "output_type": "stream",
     "text": [
      "epoch: 1, loss=0.015\n",
      "epoch: 2, loss=0.011\n",
      "epoch: 3, loss=0.009\n",
      "epoch: 4, loss=0.008\n",
      "epoch: 5, loss=0.008\n"
     ]
    }
   ],
   "source": [
    "model = vae()\n",
    "optimizer = torch.optim.Adam(\n",
    "    model.parameters(), \n",
    "    lr=lr, \n",
    "    weight_decay=weight_decay\n",
    ")\n",
    "criterion = nn.MSELoss()\n",
    "\n",
    "for epoch in range(n_epochs):\n",
    "    for (img, _) in loader:\n",
    "        recon = model(img)\n",
    "        loss = criterion(recon, img)\n",
    "        optimizer.zero_grad()\n",
    "        loss.backward()\n",
    "        optimizer.step()\n",
    "    print(f'epoch: {epoch+1}, loss={loss.item():.3f}') "
   ]
  }
 ],
 "metadata": {
  "kernelspec": {
   "display_name": "Python 3 (ipykernel)",
   "language": "python",
   "name": "python3"
  },
  "language_info": {
   "codemirror_mode": {
    "name": "ipython",
    "version": 3
   },
   "file_extension": ".py",
   "mimetype": "text/x-python",
   "name": "python",
   "nbconvert_exporter": "python",
   "pygments_lexer": "ipython3",
   "version": "3.9.7"
  }
 },
 "nbformat": 4,
 "nbformat_minor": 4
}
