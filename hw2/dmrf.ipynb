{
 "cells": [
  {
   "cell_type": "markdown",
   "source": [
    "# Задание\n",
    "* Собрать информацию о всех строящихся объектах на сайте \"наш.дом.рф\"\n",
    "* Cохранить ее в pandas dataframe\n",
    "* Cохранить pandas dataframe в excel\n",
    "* Cохранить pandas dataframe в pickle\n",
    "* Cохранить pandas dataframe в БД\n",
    "\n",
    "# Задание *\n",
    "* Написать скрипт, который скачивает фотографии всех строящихся объектов с сайта \"наш.дом.рф\"\n"
   ],
   "metadata": {
    "collapsed": false,
    "pycharm": {
     "name": "#%% md\n"
    }
   }
  },
  {
   "cell_type": "code",
   "execution_count": 12,
   "outputs": [],
   "source": [
    "import requests\n",
    "import pandas as pd"
   ],
   "metadata": {
    "collapsed": false,
    "pycharm": {
     "name": "#%%\n"
    }
   }
  },
  {
   "cell_type": "markdown",
   "source": [
    "## Получаем cписок из limit_ объектов"
   ],
   "metadata": {
    "collapsed": false,
    "pycharm": {
     "name": "#%% md\n"
    }
   }
  },
  {
   "cell_type": "code",
   "execution_count": 13,
   "outputs": [],
   "source": [
    "offset_ = 1\n",
    "limit_ = 10\n",
    "url = f'https://xn--80az8a.xn--d1aqf.xn--p1ai/%D1%81%D0%B5%D1%80%D0%B2%D0%B8%D1%81%D1%8B/api/kn/object?offset={offset_}&limit={limit_}&sortField=devId.devShortCleanNm&sortType=asc&objStatus=0'\n",
    "res = requests.get(url)\n",
    "objects_data = res.json()"
   ],
   "metadata": {
    "collapsed": false,
    "pycharm": {
     "name": "#%%\n"
    }
   }
  },
  {
   "cell_type": "code",
   "execution_count": 14,
   "outputs": [
    {
     "data": {
      "text/plain": "dict_keys(['data', 'errcode'])"
     },
     "execution_count": 14,
     "metadata": {},
     "output_type": "execute_result"
    }
   ],
   "source": [
    "objects_data.keys()"
   ],
   "metadata": {
    "collapsed": false,
    "pycharm": {
     "name": "#%%\n"
    }
   }
  },
  {
   "cell_type": "code",
   "execution_count": 15,
   "outputs": [
    {
     "data": {
      "text/plain": "dict_keys(['list', 'total'])"
     },
     "execution_count": 15,
     "metadata": {},
     "output_type": "execute_result"
    }
   ],
   "source": [
    "objects_data.get('data').keys()"
   ],
   "metadata": {
    "collapsed": false,
    "pycharm": {
     "name": "#%%\n"
    }
   }
  },
  {
   "cell_type": "code",
   "execution_count": 16,
   "outputs": [
    {
     "data": {
      "text/plain": "[{'objId': 13383,\n  'developer': {'devId': 306,\n   'shortName': '2МЕН ГРУПП',\n   'fullName': '2МЕН ГРУПП',\n   'groupName': '2МЕН ГРУПП ДЕВЕЛОПМЕНТ',\n   'orgForm': {'id': 1, 'fullForm': 'Акционерное общество', 'shortForm': 'АО'},\n   'companyGroup': 699421001,\n   'devInn': '7701651356'},\n  'rpdRegionCd': 72,\n  'objAddr': 'г Тюмень',\n  'objFloorMin': 4,\n  'objFloorMax': 20,\n  'objElemLivingCnt': 68,\n  'objReady100PercDt': '2022-06-30',\n  'objSquareLiving': 6289.98,\n  'objCompensFundFlg': 1,\n  'objProblemFlg': 0,\n  'latitude': 57.153,\n  'longitude': 65.5343,\n  'problemFlag': 'NONE',\n  'siteStatus': 'Строящиеся',\n  'objGuarantyEscrowFlg': 0,\n  'residentialBuildings': 1,\n  'rpdNum': '72-000095',\n  'pdId': 28105,\n  'buildType': 'Жилое',\n  'objStatus': 0},\n {'objId': 13397,\n  'developer': {'devId': 306,\n   'shortName': '2МЕН ГРУПП',\n   'fullName': '2МЕН ГРУПП',\n   'groupName': '2МЕН ГРУПП ДЕВЕЛОПМЕНТ',\n   'orgForm': {'id': 1, 'fullForm': 'Акционерное общество', 'shortForm': 'АО'},\n   'companyGroup': 699421001,\n   'devInn': '7701651356'},\n  'rpdRegionCd': 72,\n  'objAddr': 'г Тюмень, ул Профсоюзная, д. 56',\n  'objFloorMin': 6,\n  'objFloorMax': 12,\n  'objElemLivingCnt': 65,\n  'objReady100PercDt': '2024-12-31',\n  'objSquareLiving': 6248.51,\n  'objCompensFundFlg': 0,\n  'objProblemFlg': 0,\n  'latitude': 57.1519,\n  'longitude': 65.5544,\n  'problemFlag': 'NONE',\n  'siteStatus': 'Строящиеся',\n  'objGuarantyEscrowFlg': 0,\n  'residentialBuildings': 1,\n  'rpdNum': '72-000097',\n  'pdId': 28141,\n  'buildType': 'Жилое',\n  'objStatus': 0},\n {'objId': 13398,\n  'developer': {'devId': 306,\n   'shortName': '2МЕН ГРУПП',\n   'fullName': '2МЕН ГРУПП',\n   'groupName': '2МЕН ГРУПП ДЕВЕЛОПМЕНТ',\n   'orgForm': {'id': 1, 'fullForm': 'Акционерное общество', 'shortForm': 'АО'},\n   'companyGroup': 699421001,\n   'devInn': '7701651356'},\n  'rpdRegionCd': 72,\n  'objAddr': 'г Тюмень, ул Профсоюзная, д. 56',\n  'objFloorMin': 7,\n  'objFloorMax': 10,\n  'objElemLivingCnt': 43,\n  'objReady100PercDt': '2024-12-31',\n  'objSquareLiving': 4812.98,\n  'objCompensFundFlg': 0,\n  'objProblemFlg': 0,\n  'latitude': 57.1519,\n  'longitude': 65.5544,\n  'problemFlag': 'NONE',\n  'siteStatus': 'Строящиеся',\n  'objGuarantyEscrowFlg': 0,\n  'residentialBuildings': 1,\n  'rpdNum': '72-000097',\n  'pdId': 28141,\n  'buildType': 'Жилое',\n  'objStatus': 0},\n {'objId': 13399,\n  'developer': {'devId': 306,\n   'shortName': '2МЕН ГРУПП',\n   'fullName': '2МЕН ГРУПП',\n   'groupName': '2МЕН ГРУПП ДЕВЕЛОПМЕНТ',\n   'orgForm': {'id': 1, 'fullForm': 'Акционерное общество', 'shortForm': 'АО'},\n   'companyGroup': 699421001,\n   'devInn': '7701651356'},\n  'rpdRegionCd': 72,\n  'objAddr': 'г Тюмень, ул Профсоюзная, д. 56',\n  'objFloorMin': 1,\n  'objFloorMax': 1,\n  'objElemLivingCnt': 0,\n  'objReady100PercDt': '2024-12-31',\n  'objSquareLiving': 0.0,\n  'objCompensFundFlg': 0,\n  'objProblemFlg': 0,\n  'latitude': 57.1519,\n  'longitude': 65.5544,\n  'problemFlag': 'NONE',\n  'siteStatus': 'Строящиеся',\n  'objGuarantyEscrowFlg': 0,\n  'residentialBuildings': 0,\n  'rpdNum': '72-000097',\n  'pdId': 28141,\n  'buildType': 'Нежилое',\n  'objStatus': 0},\n {'objId': 23682,\n  'developer': {'devId': 6811,\n   'shortName': '84 ВЫСОТА',\n   'fullName': '84 ВЫСОТА',\n   'groupName': '84 Высота',\n   'orgForm': {'id': 4,\n    'fullForm': 'Общество с ограниченной ответственностью',\n    'shortForm': 'ООО'},\n   'companyGroup': 5562608001,\n   'devInn': '7806536079'},\n  'rpdRegionCd': 47,\n  'objAddr': 'д Агалатово',\n  'objCommercNm': 'Жилой комплекс \"84 высота\"',\n  'objFloorMin': 10,\n  'objFloorMax': 10,\n  'objElemLivingCnt': 54,\n  'objReady100PercDt': '2022-06-30',\n  'objSquareLiving': 2748.15,\n  'objCompensFundFlg': 1,\n  'objProblemFlg': 0,\n  'latitude': 60.2152,\n  'longitude': 30.3089,\n  'problemFlag': 'NONE',\n  'siteStatus': 'Строящиеся',\n  'objGuarantyEscrowFlg': 0,\n  'residentialBuildings': 1,\n  'rpdNum': '47-000416',\n  'pdId': 64486,\n  'buildType': 'Жилое',\n  'objStatus': 0},\n {'objId': 36321,\n  'developer': {'devId': 10195,\n   'shortName': 'CЗ АЗИЯ-КОНТРАКТ',\n   'fullName': 'CПЕЦИАЛИЗИРОВАННЫЙ ЗАСТРОЙЩИК АЗИЯ-КОНТРАКТ',\n   'orgForm': {'id': 4,\n    'fullForm': 'Общество с ограниченной ответственностью',\n    'shortForm': 'ООО'},\n   'devInn': '2536319917'},\n  'rpdRegionCd': 25,\n  'objAddr': 'г Владивосток, район Ленинский, ул 10-я Рабочая, д. 80',\n  'objFloorMin': 25,\n  'objFloorMax': 25,\n  'objElemLivingCnt': 120,\n  'objReady100PercDt': '2022-06-30',\n  'objSquareLiving': 8002.4,\n  'objCompensFundFlg': 0,\n  'objProblemFlg': 0,\n  'latitude': 43.1258,\n  'longitude': 131.9341,\n  'problemFlag': 'NONE',\n  'siteStatus': 'Строящиеся',\n  'objGuarantyEscrowFlg': 1,\n  'residentialBuildings': 1,\n  'rpdNum': '25-000337',\n  'pdId': 319464,\n  'buildType': 'Жилое',\n  'objStatus': 0},\n {'objId': 36912,\n  'developer': {'devId': 10296,\n   'shortName': 'CЗ СТРОЙРЕСУРС',\n   'fullName': 'CПЕЦИАЛИЗИРОВАННЫЙ ЗАСТРОЙЩИК СТРОЙРЕСУРС',\n   'orgForm': {'id': 4,\n    'fullForm': 'Общество с ограниченной ответственностью',\n    'shortForm': 'ООО'},\n   'devInn': '2634049923'},\n  'rpdRegionCd': 26,\n  'objAddr': 'г Ставрополь, ул Шпаковская, Доваторцев, д. 107, 38, блок-секция БС-1, БС-2, БС-3',\n  'objFloorMin': 2,\n  'objFloorMax': 10,\n  'objElemLivingCnt': 104,\n  'objReady100PercDt': '2022-12-31',\n  'objSquareLiving': 8295.2,\n  'objCompensFundFlg': 0,\n  'objProblemFlg': 0,\n  'latitude': 45.02,\n  'longitude': 41.9346,\n  'problemFlag': 'NONE',\n  'siteStatus': 'Строящиеся',\n  'objGuarantyEscrowFlg': 1,\n  'residentialBuildings': 1,\n  'rpdNum': '26-000567',\n  'pdId': 337586,\n  'buildType': 'Жилое',\n  'objStatus': 0},\n {'objId': 44076,\n  'developer': {'devId': 9115,\n   'shortName': 'XXI ВЕК СТРОЙ',\n   'fullName': 'XXI ВЕК СТРОЙ',\n   'orgForm': {'id': 4,\n    'fullForm': 'Общество с ограниченной ответственностью',\n    'shortForm': 'ООО'},\n   'devInn': '5256059676'},\n  'rpdRegionCd': 52,\n  'objAddr': 'г Нижний Новгород, район Автозаводский, ш Южное, д. 43, литера А',\n  'objFloorMin': 6,\n  'objFloorMax': 6,\n  'objElemLivingCnt': 0,\n  'objReady100PercDt': '2022-03-31',\n  'objSquareLiving': 0.0,\n  'objCompensFundFlg': 0,\n  'objProblemFlg': 0,\n  'latitude': 56.2302,\n  'longitude': 43.8707,\n  'problemFlag': 'NONE',\n  'siteStatus': 'Строящиеся',\n  'objGuarantyEscrowFlg': 1,\n  'residentialBuildings': 0,\n  'rpdNum': '52-000758',\n  'pdId': 275899,\n  'buildType': 'Нежилое',\n  'objStatus': 0},\n {'objId': 23494,\n  'developer': {'devId': 4074,\n   'shortName': 'А-ЛЕКС',\n   'fullName': 'А-ЛЕКС',\n   'orgForm': {'id': 4,\n    'fullForm': 'Общество с ограниченной ответственностью',\n    'shortForm': 'ООО'},\n   'devInn': '7838512810'},\n  'rpdRegionCd': 47,\n  'objAddr': 'гп Янино-1, улица 7-ая линия, вл. Участок 1',\n  'objCommercNm': 'ЖК \"Янинский каскад-5\"',\n  'objFloorMin': 3,\n  'objFloorMax': 13,\n  'objElemLivingCnt': 251,\n  'objReady100PercDt': '2022-12-31',\n  'objSquareLiving': 10991.85,\n  'objCompensFundFlg': 1,\n  'objProblemFlg': 0,\n  'latitude': 59.9454,\n  'longitude': 30.5612,\n  'problemFlag': 'NONE',\n  'siteStatus': 'Строящиеся',\n  'objGuarantyEscrowFlg': 0,\n  'residentialBuildings': 1,\n  'rpdNum': '47-000188',\n  'pdId': 35375,\n  'buildType': 'Жилое',\n  'objStatus': 0},\n {'objId': 27476,\n  'developer': {'devId': 664,\n   'shortName': 'А101',\n   'fullName': 'А101',\n   'groupName': 'А101 ДЕВЕЛОПМЕНТ',\n   'orgForm': {'id': 4,\n    'fullForm': 'Общество с ограниченной ответственностью',\n    'shortForm': 'ООО'},\n   'companyGroup': 1075233001,\n   'devInn': '7704810149'},\n  'rpdRegionCd': 77,\n  'objAddr': 'п Коммунарка, д. 17, корпус 4',\n  'objCommercNm': 'Скандинавия',\n  'objFloorMin': 15,\n  'objFloorMax': 15,\n  'objElemLivingCnt': 99,\n  'objReady100PercDt': '2022-06-30',\n  'objSquareLiving': 5589.5,\n  'objCompensFundFlg': 0,\n  'objProblemFlg': 0,\n  'latitude': 55.5632,\n  'longitude': 37.5025,\n  'problemFlag': 'NONE',\n  'siteStatus': 'Строящиеся',\n  'objGuarantyEscrowFlg': 1,\n  'residentialBuildings': 1,\n  'rpdNum': '77-001702',\n  'pdId': 94132,\n  'buildType': 'Жилое',\n  'objStatus': 0}]"
     },
     "execution_count": 16,
     "metadata": {},
     "output_type": "execute_result"
    }
   ],
   "source": [
    " objects_data.get('data').get('list')"
   ],
   "metadata": {
    "collapsed": false,
    "pycharm": {
     "name": "#%%\n"
    }
   }
  },
  {
   "cell_type": "code",
   "execution_count": 17,
   "outputs": [],
   "source": [
    "objects_list = objects_data.get('data').get('list')"
   ],
   "metadata": {
    "collapsed": false,
    "pycharm": {
     "name": "#%%\n"
    }
   }
  },
  {
   "cell_type": "code",
   "execution_count": 18,
   "outputs": [],
   "source": [
    "objids = [x.get('objId') for x in objects_list]"
   ],
   "metadata": {
    "collapsed": false,
    "pycharm": {
     "name": "#%%\n"
    }
   }
  },
  {
   "cell_type": "code",
   "execution_count": 19,
   "outputs": [
    {
     "data": {
      "text/plain": "10"
     },
     "execution_count": 19,
     "metadata": {},
     "output_type": "execute_result"
    }
   ],
   "source": [
    "len(objids)"
   ],
   "metadata": {
    "collapsed": false,
    "pycharm": {
     "name": "#%%\n"
    }
   }
  },
  {
   "cell_type": "markdown",
   "source": [],
   "metadata": {
    "collapsed": false
   }
  },
  {
   "cell_type": "code",
   "execution_count": 20,
   "outputs": [
    {
     "data": {
      "text/plain": "[13383, 13397, 13398, 13399, 23682, 36321, 36912, 44076, 23494, 27476]"
     },
     "execution_count": 20,
     "metadata": {},
     "output_type": "execute_result"
    }
   ],
   "source": [
    "objids[:10]"
   ],
   "metadata": {
    "collapsed": false,
    "pycharm": {
     "name": "#%%\n"
    }
   }
  },
  {
   "cell_type": "markdown",
   "source": [
    "## Получаем нормализованные данные, cохраняем в pandas dataframe"
   ],
   "metadata": {
    "collapsed": false
   }
  },
  {
   "cell_type": "code",
   "execution_count": 21,
   "outputs": [],
   "source": [
    "import json\n",
    "from io import StringIO\n",
    "\n",
    "# json_string = json.dumps(objects_list)\n",
    "# with open('my_json_data.json', 'w') as file:\n",
    "#    json.dump(json_string, file)\n",
    "#df = pd.read_json(StringIO(json.dumps(objects_list)))\n",
    "\n",
    "df = pd.json_normalize(objects_list)\n"
   ],
   "metadata": {
    "collapsed": false,
    "pycharm": {
     "name": "#%%\n"
    }
   }
  },
  {
   "cell_type": "markdown",
   "source": [],
   "metadata": {
    "collapsed": false
   }
  },
  {
   "cell_type": "code",
   "execution_count": 22,
   "outputs": [],
   "source": [
    "df.to_excel(\"out_excel.xlsx\", sheet_name='sheet1')"
   ],
   "metadata": {
    "collapsed": false,
    "pycharm": {
     "name": "#%%\n"
    }
   }
  },
  {
   "cell_type": "markdown",
   "source": [
    "## Cохраняем pandas dataframe в формате pickle"
   ],
   "metadata": {
    "collapsed": false
   }
  },
  {
   "cell_type": "code",
   "execution_count": 23,
   "outputs": [],
   "source": [
    "df.to_pickle(\"out_pickle.pkl\")"
   ],
   "metadata": {
    "collapsed": false,
    "pycharm": {
     "name": "#%%\n"
    }
   }
  },
  {
   "cell_type": "markdown",
   "source": [
    "## Cохраняем pandas dataframe в БД"
   ],
   "metadata": {
    "collapsed": false
   }
  },
  {
   "cell_type": "code",
   "execution_count": 24,
   "outputs": [],
   "source": [
    "import sqlite3\n",
    "\n",
    "conn = sqlite3.connect('test_database1.sqlite')\n",
    "df.to_sql('builded_objects', conn, if_exists='replace', index=False)\n",
    "conn.commit()\n",
    "conn.close()"
   ],
   "metadata": {
    "collapsed": false,
    "pycharm": {
     "name": "#%%\n"
    }
   }
  },
  {
   "cell_type": "markdown",
   "source": [
    "## Данные по определенному объекту"
   ],
   "metadata": {
    "collapsed": false,
    "pycharm": {
     "name": "#%% md\n"
    }
   }
  },
  {
   "cell_type": "code",
   "execution_count": 25,
   "outputs": [
    {
     "data": {
      "text/plain": "{'data': {'id': 36774,\n  'pdId': 351714,\n  'developer': {'devId': 6926,\n   'devShortCleanNm': 'ОКЕАН',\n   'devShortNm': 'ОКЕАН',\n   'devFullCleanNm': 'ОКЕАН',\n   'problObjCnt': 0,\n   'buildObjCnt': 1,\n   'comissObjCnt': 0,\n   'regRegionDesc': 'Башкортостан Республика',\n   'devPhoneNum': '+7(927)300-31-01',\n   'devSite': 'altun-yar.ru',\n   'devEmail': 'khabibovr@mail.ru',\n   'devInn': '0277093608',\n   'devOgrn': '1080277004521',\n   'devKpp': '027701001',\n   'devLegalAddr': 'Башкортостан Республика, город Уфа, проспект Проспект Октября дом 85',\n   'devFactAddr': 'Респ Башкортостан Город Уфа Проспект Октября д. 85',\n   'lastRpdId': 511041,\n   'fundGuarantyFlg': 0,\n   'devOrgRegRegionCd': 2,\n   'devEmplMainFullNm': 'Хабибов Рамиль Хамидуллович',\n   'developerGroupName': 'Океан',\n   'orgForm': {'id': 4,\n    'fullForm': 'Общество с ограниченной ответственностью',\n    'shortForm': 'ООО'},\n   'companyGroupId': 5767476001,\n   'objGuarantyEscrowFlg': 1,\n   'govFundFlg': 0},\n  'region': 2,\n  'address': 'г Уфа, ул Прибельская, д. 32, 32/1, 34',\n  'floorMin': 5,\n  'floorMax': 9,\n  'objElemLivingCnt': 0,\n  'objReady100PercDt': '2024-09-30',\n  'wallMaterialShortDesc': 'Монолит-кирпич',\n  'objLkFinishTypeDesc': 'Без отделки',\n  'objLkFreePlanDesc': 'Есть',\n  'objElemParkingCnt': 73,\n  'objSquareLiving': 0.0,\n  'rpdNum': '02-001200',\n  'rpdPdfLink': 'https://xn--80az8a.xn--d1aqf.xn--p1ai/api/ext/file/8455bc4e-fc18-46c6-b684-f86c7fe3da85',\n  'rpdIssueDttm': '07-10-2021 09:15',\n  'objLkLatitude': '54.6871',\n  'objLkLongitude': '55.9563',\n  'objCompensFundFlg': 0,\n  'objProblemFlg': 0,\n  'objLkClassDesc': 'Типовой',\n  'loadDttm': '04-05-2022 01:13',\n  'photoRenderDTO': [{'objId': 36774,\n    'pdId': 351714,\n    'rpdId': 511041,\n    'devId': 6926,\n    'ordNum': 1,\n    'objRenderPhotoSize': 406650,\n    'objRenderPhotoUrl': 'https://xn--80az8a.xn--d1aqf.xn--p1ai/api/ext/file/7d361bd3-f91d-47ac-a468-19ba445ce116',\n    'objRenderPhotoDttm': '25-08-2020 12:17',\n    'objRenderPhotoHiddenFlg': 0,\n    'objRenderPhotoNm': '1.jpg',\n    'objReadyDesc': 'Строится',\n    'objBuildTypeShortDesc': 'Нежилое',\n    'knFlg': 0,\n    'loadDttm': '04-05-2022 00:57'},\n   {'objId': 36774,\n    'pdId': 351714,\n    'rpdId': 511041,\n    'devId': 6926,\n    'ordNum': 2,\n    'objRenderPhotoSize': 474129,\n    'objRenderPhotoUrl': 'https://xn--80az8a.xn--d1aqf.xn--p1ai/api/ext/file/f4cd2621-6ed8-42c6-a864-105d08dc8fed',\n    'objRenderPhotoDttm': '25-08-2020 12:17',\n    'objRenderPhotoHiddenFlg': 0,\n    'objRenderPhotoNm': '21.jpg',\n    'objReadyDesc': 'Строится',\n    'objBuildTypeShortDesc': 'Нежилое',\n    'knFlg': 0,\n    'loadDttm': '04-05-2022 00:57'}],\n  'objGuarantyEscrowFlg': 1,\n  'objectType': 'normal',\n  'miniUrl': 'https://xn--80az8a.xn--d1aqf.xn--p1ai/api/ext/file/882375c0-5d57-471d-9998-2ea99f0d81d9',\n  'residentialBuildings': 0,\n  'newBuildingId': 117025,\n  'objFloorCnt': 9,\n  'objFlatCnt': 0,\n  'objFlatSq': '0.0',\n  'objNonlivElemCnt': 173,\n  'objStatus': 0,\n  'isAvailableWantLiveHere': True,\n  'objTransferPlanDt': '31-08-2024 12:00',\n  'objInfrstrBicycleLaneFlg': 0,\n  'objInfrstrPlaygrndCnt': 0,\n  'objInfrstrSportGroundCnt': 0,\n  'objInfrstrTrashAreaCnt': 0,\n  'objInfrstrObjPrkngCnt': 0,\n  'objInfrstrNotObjPrkngCnt': 0,\n  'objInfrstrRampFlg': 0,\n  'objInfrstrCurbLoweringFlg': 0,\n  'objElevatorWheelchairCnt': 0,\n  'objElevatorPassengerCnt': 5,\n  'objElevatorCargoCnt': 0,\n  'soldOutPerc': 1.0,\n  'objPriceAvg': 45187,\n  'generalContractorNm': 'ООО НЕРУД ИНВЕСТ (ИНН: 0277077148)',\n  'nonlivFirstFloor': 1,\n  'objectTransportInfo': [],\n  'conclusion': False,\n  'objLkSaleDepEmail': 'khabibovr@mail.ru',\n  'objGreenHouseFlg': 0,\n  'objEnergyEffShortDesc': 'C',\n  'infrastructureIndexValue': 3},\n 'errcode': '0'}"
     },
     "execution_count": 25,
     "metadata": {},
     "output_type": "execute_result"
    }
   ],
   "source": [
    "url = f'https://xn--80az8a.xn--d1aqf.xn--p1ai/%D1%81%D0%B5%D1%80%D0%B2%D0%B8%D1%81%D1%8B/api/object/36774'\n",
    "res = requests.get(url)\n",
    "res.json()"
   ],
   "metadata": {
    "collapsed": false,
    "pycharm": {
     "name": "#%%\n"
    }
   }
  },
  {
   "cell_type": "markdown",
   "source": [
    "## Cкрипт, который скачивает фотографии всех строящихся объектов с сайта “наш.дом.рф”"
   ],
   "metadata": {
    "collapsed": false
   }
  },
  {
   "cell_type": "code",
   "execution_count": 26,
   "outputs": [],
   "source": [
    "url_pattern = 'https://xn--80az8a.xn--d1aqf.xn--p1ai/%D1%81%D0%B5%D1%80%D0%B2%D0%B8%D1%81%D1%8B/api/object/{}'\n",
    "path = 'builded_objects/'\n",
    "\n",
    "import pathlib\n",
    "\n",
    "pathlib.Path(path).mkdir(parents=True, exist_ok=True)\n",
    "\n",
    "for elem in objects_list:\n",
    "    objId = elem.get('objId')\n",
    "    object_info_url = url_pattern.format(objId)\n",
    "    json = requests.get(object_info_url).json().get('data')\n",
    "    dir_path = f'{path}/{objId}'\n",
    "    pathlib.Path(dir_path).mkdir(parents=True, exist_ok=True)\n",
    "    listOfUrlsGen = (el.get('objRenderPhotoUrl') for el in json.get('photoRenderDTO'))\n",
    "    for picture_num, picture_url in enumerate(listOfUrlsGen):\n",
    "        with open(f'{dir_path}/{picture_num}.jpg', 'wb') as handle:\n",
    "            response = requests.get(picture_url, stream=True)\n",
    "            handle.write(response.content)\n"
   ],
   "metadata": {
    "collapsed": false,
    "pycharm": {
     "name": "#%%\n"
    }
   }
  }
 ],
 "metadata": {
  "kernelspec": {
   "display_name": "Python 3",
   "language": "python",
   "name": "python3"
  },
  "language_info": {
   "codemirror_mode": {
    "name": "ipython",
    "version": 2
   },
   "file_extension": ".py",
   "mimetype": "text/x-python",
   "name": "python",
   "nbconvert_exporter": "python",
   "pygments_lexer": "ipython2",
   "version": "2.7.6"
  }
 },
 "nbformat": 4,
 "nbformat_minor": 0
}