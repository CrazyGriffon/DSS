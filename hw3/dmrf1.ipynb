{
 "cells": [
  {
   "cell_type": "markdown",
   "metadata": {
    "pycharm": {
     "name": "#%% md\n"
    }
   },
   "source": [
    "# Задание\n",
    "* Собрать информацию о всех строящихся объектах на сайте \"наш.дом.рф\"\n",
    "* Попробовать найти закономерности в данных при помощи графиков разного вида"
   ]
  },
  {
   "cell_type": "code",
   "execution_count": 9,
   "metadata": {
    "pycharm": {
     "name": "#%%\n"
    }
   },
   "outputs": [],
   "source": [
    "import requests\n",
    "import pandas as pd\n",
    "import pathlib"
   ]
  },
  {
   "cell_type": "markdown",
   "metadata": {
    "pycharm": {
     "name": "#%% md\n"
    }
   },
   "source": [
    "## Получаем cписок из limit_ объектов"
   ]
  },
  {
   "cell_type": "code",
   "execution_count": 10,
   "metadata": {
    "pycharm": {
     "name": "#%%\n"
    }
   },
   "outputs": [],
   "source": [
    "offset_ = 1\n",
    "limit_ = 500\n",
    "url = f'https://xn--80az8a.xn--d1aqf.xn--p1ai/%D1%81%D0%B5%D1%80%D0%B2%D0%B8%D1%81%D1%8B/api/kn/object?offset={offset_}&limit={limit_}&sortField=devId.devShortCleanNm&sortType=asc&objStatus=0'\n",
    "res = requests.get(url)\n",
    "objects_data = res.json()\n",
    "objects_list = objects_data.get('data').get('list')"
   ]
  },
  {
   "cell_type": "code",
   "execution_count": 11,
   "metadata": {
    "pycharm": {
     "name": "#%%\n"
    }
   },
   "outputs": [],
   "source": [
    "## Получаем нормализованные данные, cохраняем в pandas dataframe обогащеннные данные"
   ]
  },
  {
   "cell_type": "code",
   "execution_count": 23,
   "metadata": {
    "pycharm": {
     "name": "#%%\n"
    }
   },
   "outputs": [],
   "source": [
    "import json\n",
    "from io import StringIO\n",
    "\n",
    "# json_string = json.dumps(objects_list)\n",
    "# with open('my_json_data.json', 'w') as file:\n",
    "#    json.dump(json_string, file)\n",
    "#df = pd.read_json(StringIO(json.dumps(objects_list)))\n",
    "\n",
    "url_pattern = 'https://xn--80az8a.xn--d1aqf.xn--p1ai/%D1%81%D0%B5%D1%80%D0%B2%D0%B8%D1%81%D1%8B/api/object/{}'\n",
    "\n",
    "df1 = pd.json_normalize(objects_list)\n",
    "jsonlist = []\n",
    "for elem in objects_list:\n",
    "    objId = elem.get('objId')\n",
    "    object_info_url = url_pattern.format(objId)\n",
    "    json = requests.get(object_info_url).json().get('data')\n",
    "    jsonlist.append(json)\n",
    "df2 = pd.json_normalize(jsonlist)\n",
    "cols_to_use = df2.columns.difference(df1.columns)\n",
    "df =  pd.concat([df1, df2[cols_to_use]], axis=1)\n",
    "#del result[\"id\"] #id=objId\n",
    "#del result[\"objectTransportInfo\"]\n",
    "df.to_excel(\"out_excel.xlsx\", sheet_name='sheet1')"
   ]
  },
  {
   "cell_type": "markdown",
   "metadata": {
    "pycharm": {
     "name": "#%% md\n"
    }
   },
   "source": [
    "## Гистограмма по числу жилых и нежилых строений"
   ]
  },
  {
   "cell_type": "code",
   "execution_count": null,
   "metadata": {
    "pycharm": {
     "is_executing": true,
     "name": "#%%\n"
    }
   },
   "outputs": [],
   "source": [
    "import pandas as pd\n",
    "import matplotlib.pyplot as plt\n",
    "import seaborn as sns\n",
    "import numpy as np\n",
    "\n",
    "df = pd.read_excel('out_excel.xlsx', engine='openpyxl')\n",
    "\n",
    "df2 = df['buildType'].map(lambda x: 1 if x == 'Жилое' else 0)\n",
    "hist_info2 = plt.hist(df2, bins = 2, edgecolor='red')\n",
    "df"
   ]
  },
  {
   "cell_type": "markdown",
   "metadata": {
    "pycharm": {
     "name": "#%% md\n"
    }
   },
   "source": [
    "## Гистограмма по числу квартир в жилых домах"
   ]
  },
  {
   "cell_type": "code",
   "execution_count": 415,
   "metadata": {
    "pycharm": {
     "name": "#%%\n"
    }
   },
   "outputs": [
    {
     "data": {
      "image/png": "[encoded data removed]",
      "text/plain": [
       "<Figure size 432x288 with 1 Axes>"
      ]
     },
     "metadata": {
      "needs_background": "light"
     },
     "output_type": "display_data"
    }
   ],
   "source": [
    "df1 = df['objElemLivingCnt'][df['buildType']=='Жилое']\n",
    "hist_info = plt.hist(df1, bins=10, edgecolor='black')"
   ]
  },
  {
   "cell_type": "markdown",
   "metadata": {},
   "source": [
    "## Районы с наиболее активным строительством"
   ]
  },
  {
   "cell_type": "code",
   "execution_count": null,
   "metadata": {
    "pycharm": {
     "is_executing": true,
     "name": "#%%\n"
    }
   },
   "outputs": [],
   "source": [
    "#plt.figure(figsize=(10, 5))\n",
    "#plt.scatter(x=df['longitude'], y=df['latitude'], s=5, marker='o')\n",
    "#plt.show()\n",
    "#max(df['longitude'])\n",
    "\n",
    "from shapely.geometry import Point\n",
    "import geopandas as gpd\n",
    "from geopandas import GeoDataFrame\n",
    "\n",
    "geometry = [Point(p) for p in zip(df['longitude'], df['latitude'])]\n",
    "gdf = GeoDataFrame(df, geometry=geometry)\n",
    "\n",
    "#this is a simple map that goes with geopandas\n",
    "world = gpd.read_file(gpd.datasets.get_path('naturalearth_lowres'))\n",
    "gdf.plot(ax=world.plot(figsize=(20, 10)), marker='*', color='red', markersize=10);"
   ]
  },
  {
   "cell_type": "markdown",
   "metadata": {
    "pycharm": {
     "name": "#%% md\n"
    }
   },
   "source": [
    "## Диаграмма распределения средней стоимости в зависимости от материала и типа строения"
   ]
  },
  {
   "cell_type": "code",
   "execution_count": null,
   "metadata": {
    "pycharm": {
     "is_executing": true,
     "name": "#%%\n"
    }
   },
   "outputs": [],
   "source": [
    "sns.catplot(\n",
    "    x='wallMaterialShortDesc',\n",
    "    y='objPriceAvg',\n",
    "    hue='objLkClassDesc',\n",
    "    kind='bar',\n",
    "    estimator = np.median,\n",
    "    height=4,\n",
    "    aspect=2,\n",
    "    data = df)\n",
    "plt.title('Столбиковая диаграмма', size=20, color='b', weight='bold');\n"
   ]
  },
  {
   "cell_type": "markdown",
   "metadata": {
    "pycharm": {
     "name": "#%% md\n"
    }
   },
   "source": []
  },
  {
   "cell_type": "markdown",
   "metadata": {
    "pycharm": {
     "name": "#%% md\n"
    }
   },
   "source": []
  },
  {
   "cell_type": "code",
   "execution_count": null,
   "metadata": {
    "pycharm": {
     "is_executing": true,
     "name": "#%%\n"
    }
   },
   "outputs": [],
   "source": [
    "import plotly.express as px\n",
    "\n",
    "df3 = df[['rpdRegionCd','buildType']][df['buildType'] == 'Жилое']\n",
    "fig = px.pie(df3, values='rpdRegionCd', names='rpdRegionCd', title='Распределение строящихся жилых объектов по регионам')\n",
    "\n",
    "fig.show()"
   ]
  }
 ],
 "metadata": {
  "kernelspec": {
   "display_name": "Python 3 (ipykernel)",
   "language": "python",
   "name": "python3"
  },
  "language_info": {
   "codemirror_mode": {
    "name": "ipython",
    "version": 3
   },
   "file_extension": ".py",
   "mimetype": "text/x-python",
   "name": "python",
   "nbconvert_exporter": "python",
   "pygments_lexer": "ipython3",
   "version": "3.9.7"
  }
 },
 "nbformat": 4,
 "nbformat_minor": 1
}