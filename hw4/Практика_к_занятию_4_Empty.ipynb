{
 "cells": [
  {
   "cell_type": "markdown",
   "metadata": {
    "id": "pDrecLU-4QjS"
   },
   "source": [
    "# Практика\n",
    "Используемые библиотеки"
   ]
  },
  {
   "cell_type": "code",
   "execution_count": 52,
   "metadata": {},
   "outputs": [],
   "source": [
    "import pandas as pd\n",
    "import numpy as np\n",
    "import requests\n",
    "import io\n",
    "import re\n"
   ]
  },
  {
   "cell_type": "markdown",
   "metadata": {},
   "source": [
    "## Загрузка DataFrame\n",
    "### Задача 1\n",
    "На основании данных портала \"Открытые данные России\" о результатах Химического анализа родника в Нескучном саду https://data.gov.ru/opendata/7708660670-rodnik-neskuchniy-sad\n",
    "средствами библиотеки __Pandas__ сформируйте поле выводов по каждому анализирумомому параметру.\n",
    "Например, по показателю _pH_ получен результат _8.4 единицы pH_ при нормативе от _6 до 9 единиц pH_. Т.о. по данному показателю результат анализа в норме.\n",
    "Для решения задачи необходимо программно \"прочитать и понять\" значение столбца \"Норматив\" и выделенное численное значение сравнить с нормативом согласно логике норматива. Например, __6 >= pH >= 9__.\n",
    "В итоговом DataFrame столбец \"Показатель\" сделайте индексным.\n",
    "\n",
    "\n",
    "Загзрузка DataFrame выполняется непосредственно c сайта \"Открытые данные России\" https://data.gov.ru/opendata/7708660670-rodnik-neskuchniy-sad/data-20160608T1215-structure-20160608T1215.csv (см. код ниже).\n"
   ]
  },
  {
   "cell_type": "code",
   "execution_count": null,
   "metadata": {
    "pycharm": {
     "is_executing": true
    }
   },
   "outputs": [],
   "source": [
    "url =\"https://data.gov.ru/opendata/7708660670-rodnik-neskuchniy-sad/data-20160608T1215-structure-20160608T1215.csv\"\n",
    "s = requests.get(url).content\n",
    "df = pd.read_csv(io.StringIO(s.decode('UTF8')))\n",
    "#df = pd.read_csv(\"Химический анализ родника в Нескучном саду.csv\", sep=';')\n",
    "display(df)"
   ]
  },
  {
   "cell_type": "code",
   "execution_count": null,
   "metadata": {
    "pycharm": {
     "is_executing": true
    }
   },
   "outputs": [],
   "source": [
    "def func(res, norm):\n",
    "    try:\n",
    "        float_res = float(res)\n",
    "    except Exception:\n",
    "        return 'Ошибка формата результата анализа'\n",
    "    nums = [float(x.replace(',', '.')) for x in re.findall(r\"[+]?(?:\\d*\\,\\d+|\\d+)\", norm.strip())]\n",
    "    result = float_res < nums[-1] if norm.startswith('не более') else\\\n",
    "        (nums[-2] < float(res) < nums[-1] if norm.startswith('в пределах') else False)\n",
    "    return 'Норматив выполнен' if result else 'Норматив не выполнен'\n",
    "\n",
    "\n",
    "new_col_name = 'Вывод'\n",
    "df[new_col_name] = df.apply(lambda x: func(x['Результат анализа'], x['Норматив']), axis=1)\n",
    "df.set_index('Показатель')\n",
    "df"
   ]
  },
  {
   "cell_type": "markdown",
   "metadata": {
    "id": "gUvTNDlMaV-a"
   },
   "source": [
    "## Теория вероятности. События\n",
    "\n",
    "Требуется сгенерировать необходимые выборки и произвести по ним расчеты"
   ]
  },
  {
   "cell_type": "markdown",
   "metadata": {
    "id": "t0XOMos2Tl0e"
   },
   "source": [
    "### Задача 2\n",
    "В ящике 5 апельсинов и 4 яблока. Наудачу выбираются 3 фрукта. Какова вероятность, что все три фрукта – апельсины?\n",
    "\n",
    "В интернете полученный аналитически ответ 0.119. Подтверждается ли он эксперементально?\n"
   ]
  },
  {
   "cell_type": "code",
   "execution_count": null,
   "metadata": {
    "id": "o7NjAE9uUo-L",
    "pycharm": {
     "is_executing": true
    }
   },
   "outputs": [],
   "source": [
    "fruit = ['O', 'A']  #варианты фруктов\n",
    "\n",
    "\n",
    "#Функция выбирает случайным образом 3 фрукта из ящика. Для ускорения можно было бы сразу завершить эксперимент как неуспешный, если попалось яблоко.\n",
    "def random_choice():\n",
    "    n_orange = 5\n",
    "    n_apple = 4\n",
    "    result_choice = []\n",
    "    for i in range(0, 3):\n",
    "        p_orange = n_orange / (n_apple + n_orange)\n",
    "        choice = np.random.choice(fruit, 1, p=[p_orange, 1 - p_orange])[0]\n",
    "        result_choice.append(choice)\n",
    "        if choice == 'O':\n",
    "            n_orange -= 1\n",
    "        else:\n",
    "            n_apple -= 1\n",
    "    return result_choice\n",
    "\n",
    "\n",
    "N = 100000  # число экспериментов с выбором 3 фруктов из ящика\n",
    "N_success = 0  #число успешных исходов эксперимента\n",
    "\n",
    "for i in range(N):\n",
    "    choice = random_choice()\n",
    "    if all(x == 'O' for x in choice): N_success += 1\n",
    "\n",
    "probability = N_success / N  #искомая вероятность\n",
    "probability"
   ]
  },
  {
   "cell_type": "markdown",
   "metadata": {
    "id": "g7A7QlvGTnwZ"
   },
   "source": [
    "### Задача 3\n",
    "Мастер, имея 10 деталей, из которых 3 – нестандартных, проверяет детали одну за другой, пока ему не попадется стандартная. Какова вероятность, что он проверит ровно две детали?\n",
    "\n",
    "\n",
    "В интернете полученный аналитически ответ 7/30 или 0.23333. Подтверждается ли он эксперементально?"
   ]
  },
  {
   "cell_type": "code",
   "execution_count": null,
   "outputs": [],
   "source": [
    "details = ['S', 'NS']  #варианты деталей\n",
    "n_s = 7\n",
    "n_ns = 3\n",
    "\n",
    "\n",
    "#Функция осуществляет выбор деталей до первой стандартной. Если в результате первой проверки получили S, то сразу завершаем эксперимент,\n",
    "# как неуспешный, в противном случае делаем еще одну проверку. Возвращаем \"успех\", если получили S во 2-м эксперименте\n",
    "def random_choice_():\n",
    "    p_s = n_s / (n_s + n_ns)\n",
    "    choice = np.random.choice(details, 1, p=[p_s, 1 - p_s])[0]\n",
    "    if (choice == details[0]): return False\n",
    "    p_s = n_s / (n_s + n_ns - 1)  #обновили верояность выбора стандартной детали\n",
    "    choice = np.random.choice(details, 1, p=[p_s, 1 - p_s])[0]\n",
    "    return True if choice == details[0] else False\n",
    "\n",
    "\n",
    "N = 100000  # число экспериментов с проверкой деталей\n",
    "N_success = 0  #число успешных исходов эксперимента\n",
    "\n",
    "for i in range(N):\n",
    "    N_success += random_choice_()\n",
    "\n",
    "probability = N_success / N  #искомая вероятность\n",
    "probability"
   ],
   "metadata": {
    "collapsed": false,
    "pycharm": {
     "name": "#%%\n",
     "is_executing": true
    }
   }
  }
 ],
 "metadata": {
  "celltoolbar": "Raw Cell Format",
  "colab": {
   "collapsed_sections": [],
   "name": "Практика к занятию 11.ipynb",
   "provenance": []
  },
  "kernelspec": {
   "display_name": "Python 3",
   "language": "python",
   "name": "python3"
  },
  "language_info": {
   "codemirror_mode": {
    "name": "ipython",
    "version": 3
   },
   "file_extension": ".py",
   "mimetype": "text/x-python",
   "name": "python",
   "nbconvert_exporter": "python",
   "pygments_lexer": "ipython3",
   "version": "3.8.5"
  }
 },
 "nbformat": 4,
 "nbformat_minor": 1
}