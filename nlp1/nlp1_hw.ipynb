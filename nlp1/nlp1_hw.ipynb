{
 "cells": [
  {
   "cell_type": "markdown",
   "metadata": {
    "id": "dH7qx_irU4Y8"
   },
   "source": [
    "###ML1_1: \n",
    "https://www.hackerrank.com/challenges/capturing-non-capturing-groups/problem?isFullScreen=true\n",
    "\n",
    "###ML1_2: \n",
    "https://www.hackerrank.com/challenges/branch-reset-groups/problem?isFullScreen=true\n",
    "\n",
    "###ML1_3: \n",
    "https://www.hackerrank.com/challenges/detect-html-links/problem?isFullScreen=true\n",
    "\n",
    "###ML1_4: Реализовать stemming, lemmatization & BoW на следующем датасете: https://cloud.mail.ru/public/Z4L3/vB8GcgTtK (Russian Toxic-abuse comments)"
   ]
  },
  {
   "cell_type": "code",
   "execution_count": 625,
   "metadata": {
    "id": "xJfkstKpqsXp"
   },
   "outputs": [],
   "source": [
    "import regex"
   ]
  },
  {
   "cell_type": "code",
   "execution_count": 626,
   "metadata": {},
   "outputs": [],
   "source": [
    "def check_search(pattern, string_to_search_in):\n",
    "    return bool(regex.search(pattern, string_to_search_in))"
   ]
  },
  {
   "cell_type": "markdown",
   "metadata": {},
   "source": [
    "### ML1_1: https://www.hackerrank.com/challenges/capturing-non-capturing-groups/problem?isFullScreen=true"
   ]
  },
  {
   "cell_type": "code",
   "execution_count": 627,
   "metadata": {},
   "outputs": [],
   "source": [
    "pattern = regex.compile(r'(ok){3,}')\n",
    "assert True == check_search(pattern, 'okokok! cya')\n",
    "assert True == check_search(pattern, 'geigfrokokokyu 790mm  /t/njcya')\n",
    "assert False == check_search(pattern, 'geigfrokokyu 790mm  /t/njcya')\n",
    "assert False == check_search(pattern, 'geigfrokokoyu 790mm  /t/njcya')\n",
    "assert False == check_search(pattern, 'gokokoeigfrkokokoyu 790mm  /t/njcya')\n",
    "assert False == check_search(pattern, 'kokoko')"
   ]
  },
  {
   "cell_type": "markdown",
   "metadata": {},
   "source": [
    "### ML1_2: https://www.hackerrank.com/challenges/branch-reset-groups/problem?isFullScreen=true"
   ]
  },
  {
   "cell_type": "code",
   "execution_count": 628,
   "metadata": {},
   "outputs": [],
   "source": [
    "p1 = '(\\d{2}\\.){3}\\d{2}'\n",
    "p2 = '(\\d{2}-){3}\\d{2}'\n",
    "p3 = '(\\d{2}:){3}\\d{2}'\n",
    "p4 = '(\\d{2}-{3})\\d{2}'\n",
    "pattern = regex.compile(rf'(?|{p1}|{p2}|{p3}|{p4})')"
   ]
  },
  {
   "cell_type": "code",
   "execution_count": 629,
   "metadata": {},
   "outputs": [],
   "source": [
    "def check_match(pattern, string_to_search_in):\n",
    "    return bool(regex.match(pattern, string_to_search_in))"
   ]
  },
  {
   "cell_type": "code",
   "execution_count": 630,
   "metadata": {},
   "outputs": [],
   "source": [
    "assert True == check_match(pattern, '12-34-56-78')\n",
    "assert True == check_match(pattern, '12:34:56:78')\n",
    "assert True == check_match(pattern, '12.34.56.78')\n",
    "assert True == check_match(pattern, '12---34---56---78')\n",
    "\n",
    "assert False == check_match(pattern, '1-234-56-78')\n",
    "assert False == check_match(pattern, '12-45.78:10')"
   ]
  },
  {
   "cell_type": "markdown",
   "metadata": {
    "pycharm": {
     "name": "#%% md\n"
    }
   },
   "source": [
    "### ML1_3: https://www.hackerrank.com/challenges/detect-html-links/problem?isFullScreen=true"
   ]
  },
  {
   "cell_type": "code",
   "execution_count": 631,
   "outputs": [
    {
     "name": "stdout",
     "output_type": "stream",
     "text": [
      "text:\n",
      "<p><a href=\"http://www.quackit.com/html/tutorial/html_links.cfm\">Example Link</a></p>\n",
      "<div class=\"more-info\"><a href=\"http://www.quackit.com/html/examples/html_links_examples.cfm\">More Link Examples...</a></div>\n",
      "\n",
      "('http://www.quackit.com/html/tutorial/html_links.cfm', 'Example Link')\n",
      "('http://www.quackit.com/html/examples/html_links_examples.cfm', 'More Link Examples...')\n",
      "----------------------------------------------------------------------------------------------------\n",
      "text:\n",
      "<div class=\"portal\" role=\"navigation\" id='p-navigation'><h3>Navigation</h3><div class=\"body\"><ul> <li id=\"n-mainpage-description\"><a href=\"/wiki/Main_Page\" title=\"Visit the main page [z]\" accesskey=\"z\">Main page</a></li> <li id=\"n-contents\"><a href=\"/wiki/Portal:Contents\" title=\"Guides to browsing Wikipedia\">Contents</a></li> <li id=\"n-featuredcontent\"><a href=\"/wiki/Portal:Featured_content\" title=\"Featured content  the best of Wikipedia\">Featured content</a></li><li id=\"n-currentevents\"><a href=\"/wiki/Portal:Current_events\" title=\"Find background information on current events\">Current events</a></li><li id=\"n-randompage\"><a href=\"/wiki/Special:Random\" title=\"Load a random article [x]\" accesskey=\"x\">Random article</a></li><li id=\"n-sitesupport\"><a href=\"//donate.wikimedia.org/wiki/Special:FundraiserRedirector?utm_source=donate&utm_medium=sidebar&utm_campaign=C13_en\\.wikipedia.org&uselang=en\" title=\"Support us\">Donate to Wikipedia</a></li></ul></div></div>\n",
      "\n",
      "('/wiki/Main_Page', 'Main page')\n",
      "('/wiki/Portal:Contents', 'Contents')\n",
      "('/wiki/Portal:Featured_content', 'Featured content')\n",
      "('/wiki/Portal:Current_events', 'Current events')\n",
      "('/wiki/Special:Random', 'Random article')\n",
      "('//donate.wikimedia.org/wiki/Special:FundraiserRedirector?utm_source=donate&utm_medium=sidebar&utm_campaign=C13_en\\\\.wikipedia.org&uselang=en', 'Donate to Wikipedia')\n",
      "----------------------------------------------------------------------------------------------------\n"
     ]
    }
   ],
   "source": [
    "text1 = '''<p><a href=\"http://www.quackit.com/html/tutorial/html_links.cfm\">Example Link</a></p>\\n\\\n",
    "<div class=\"more-info\"><a href=\"http://www.quackit.com/html/examples/html_links_examples.cfm\">More Link Examples...</a></div>'''\n",
    "\n",
    "text2 = '''<div class=\"portal\" role=\"navigation\" id='p-navigation'>\\\n",
    "<h3>Navigation</h3>\\\n",
    "<div class=\"body\">\\\n",
    "<ul>\\\n",
    " <li id=\"n-mainpage-description\"><a href=\"/wiki/Main_Page\" title=\"Visit the main page [z]\" accesskey=\"z\">Main page</a></li>\\\n",
    " <li id=\"n-contents\"><a href=\"/wiki/Portal:Contents\" title=\"Guides to browsing Wikipedia\">Contents</a></li>\\\n",
    " <li id=\"n-featuredcontent\"><a href=\"/wiki/Portal:Featured_content\" title=\"Featured content  the best of Wikipedia\">Featured content</a></li>\\\n",
    "<li id=\"n-currentevents\"><a href=\"/wiki/Portal:Current_events\" title=\"Find background information on current events\">Current events</a></li>\\\n",
    "<li id=\"n-randompage\"><a href=\"/wiki/Special:Random\" title=\"Load a random article [x]\" accesskey=\"x\">Random article</a></li>\\\n",
    "<li id=\"n-sitesupport\"><a href=\"//donate.wikimedia.org/wiki/Special:FundraiserRedirector?utm_source=donate&utm_medium=sidebar&utm_campaign=C13_en\\.wikipedia.org&uselang=en\" title=\"Support us\">Donate to Wikipedia</a></li>\\\n",
    "</ul>\\\n",
    "</div>\\\n",
    "</div>'''\n",
    "\n",
    "\n",
    "def check_match(pattern, text_to_search_in):\n",
    "    return regex.findall(pattern, text_to_search_in)\n",
    "\n",
    "\n",
    "pattern = regex.compile(r'<a href=\"([^\"]*)\"[^>]*>(.*?)</a>')\n",
    "\n",
    "texts = [text1, text2]\n",
    "for text in texts:\n",
    "    matches = regex.findall(pattern, text)\n",
    "    print(f'text:\\n{text}\\n')\n",
    "    for match in matches: print(match)\n",
    "    print('-' * 100)"
   ],
   "metadata": {
    "collapsed": false,
    "pycharm": {
     "name": "#%%\n"
    }
   }
  },
  {
   "cell_type": "markdown",
   "source": [
    "### ML1_4: Реализовать stemming, lemmatization & BoW на следующем датасете: https://cloud.mail.ru/public/Z4L3/vB8GcgTtK (Russian Toxic-abuse comments)"
   ],
   "metadata": {
    "collapsed": false,
    "pycharm": {
     "name": "#%% md\n"
    }
   }
  },
  {
   "cell_type": "code",
   "execution_count": 631,
   "outputs": [],
   "source": [],
   "metadata": {
    "collapsed": false,
    "pycharm": {
     "name": "#%%\n"
    }
   }
  }
 ],
 "metadata": {
  "colab": {
   "name": "NLP1_homework",
   "provenance": [],
   "toc_visible": true
  },
  "kernelspec": {
   "display_name": "Python 3 (ipykernel)",
   "language": "python",
   "name": "python3"
  },
  "language_info": {
   "codemirror_mode": {
    "name": "ipython",
    "version": 3
   },
   "file_extension": ".py",
   "mimetype": "text/x-python",
   "name": "python",
   "nbconvert_exporter": "python",
   "pygments_lexer": "ipython3",
   "version": "3.9.7"
  }
 },
 "nbformat": 4,
 "nbformat_minor": 1
}